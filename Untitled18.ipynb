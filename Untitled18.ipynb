{
  "nbformat": 4,
  "nbformat_minor": 0,
  "metadata": {
    "colab": {
      "provenance": [],
      "toc_visible": true,
      "include_colab_link": true
    },
    "kernelspec": {
      "name": "python3",
      "display_name": "Python 3"
    },
    "language_info": {
      "name": "python"
    }
  },
  "cells": [
    {
      "cell_type": "markdown",
      "metadata": {
        "id": "view-in-github",
        "colab_type": "text"
      },
      "source": [
        "<a href=\"https://colab.research.google.com/github/chivukula-vydik/StockFischer/blob/main/Untitled18.ipynb\" target=\"_parent\"><img src=\"https://colab.research.google.com/assets/colab-badge.svg\" alt=\"Open In Colab\"/></a>"
      ]
    },
    {
      "cell_type": "code",
      "execution_count": null,
      "metadata": {
        "id": "FYHe4dtjSyGh",
        "outputId": "80fe6479-0eb6-4608-9fc5-b92275f50f91",
        "colab": {
          "base_uri": "https://localhost:8080/"
        }
      },
      "outputs": [
        {
          "output_type": "stream",
          "name": "stdout",
          "text": [
            "Cloning into 'StockFischer'...\n",
            "remote: Enumerating objects: 108, done.\u001b[K\n",
            "remote: Counting objects: 100% (108/108), done.\u001b[K\n",
            "remote: Compressing objects: 100% (73/73), done.\u001b[K\n",
            "remote: Total 108 (delta 53), reused 87 (delta 32), pack-reused 0 (from 0)\u001b[K\n",
            "Receiving objects: 100% (108/108), 23.27 KiB | 5.82 MiB/s, done.\n",
            "Resolving deltas: 100% (53/53), done.\n"
          ]
        }
      ],
      "source": [
        "!git clone https://github.com/ashb155/StockFischer.git\n",
        "\n"
      ]
    },
    {
      "cell_type": "code",
      "source": [
        "!git clone https://github.com/ashb155/StockFischer.git\n",
        "%cd StockFischer\n",
        "!ls -la\n",
        "!python ai.py --help"
      ],
      "metadata": {
        "id": "PUXl-ecJZI0A",
        "outputId": "591c0e1e-44b8-43a0-d3e7-147153224c2c",
        "colab": {
          "base_uri": "https://localhost:8080/"
        }
      },
      "execution_count": null,
      "outputs": [
        {
          "output_type": "stream",
          "name": "stdout",
          "text": [
            "fatal: destination path 'StockFischer' already exists and is not an empty directory.\n",
            "/content/StockFischer\n",
            "total 68\n",
            "drwxr-xr-x 4 root root  4096 Oct 11 17:21 .\n",
            "drwxr-xr-x 1 root root  4096 Oct 11 17:21 ..\n",
            "-rw-r--r-- 1 root root 15580 Oct 11 17:21 ai.py\n",
            "-rw-r--r-- 1 root root   803 Oct 11 17:21 board.py\n",
            "-rw-r--r-- 1 root root 12396 Oct 11 17:21 game.py\n",
            "drwxr-xr-x 8 root root  4096 Oct 11 17:21 .git\n",
            "drwxr-xr-x 3 root root  4096 Oct 11 17:21 .idea\n",
            "-rw-r--r-- 1 root root  1400 Oct 11 17:21 main.py\n",
            "-rw-r--r-- 1 root root  3567 Oct 11 17:21 moves.py\n",
            "-rw-r--r-- 1 root root  1900 Oct 11 17:21 parser.py\n",
            "-rw-r--r-- 1 root root   175 Oct 11 17:21 pieces.py\n"
          ]
        }
      ]
    },
    {
      "cell_type": "code",
      "source": [
        "%cd /content/StockFischer\n",
        "!pwd\n",
        "!ls -la\n"
      ],
      "metadata": {
        "id": "EHiC3fv9afVS",
        "outputId": "ef6e8b91-710e-477c-bb57-10232d46e77b",
        "colab": {
          "base_uri": "https://localhost:8080/"
        }
      },
      "execution_count": null,
      "outputs": [
        {
          "output_type": "stream",
          "name": "stdout",
          "text": [
            "/content/StockFischer\n",
            "/content/StockFischer\n",
            "total 68\n",
            "drwxr-xr-x 4 root root  4096 Oct 11 17:21 .\n",
            "drwxr-xr-x 1 root root  4096 Oct 11 17:21 ..\n",
            "-rw-r--r-- 1 root root 15580 Oct 11 17:21 ai.py\n",
            "-rw-r--r-- 1 root root   803 Oct 11 17:21 board.py\n",
            "-rw-r--r-- 1 root root 12396 Oct 11 17:21 game.py\n",
            "drwxr-xr-x 8 root root  4096 Oct 11 17:21 .git\n",
            "drwxr-xr-x 3 root root  4096 Oct 11 17:21 .idea\n",
            "-rw-r--r-- 1 root root  1400 Oct 11 17:21 main.py\n",
            "-rw-r--r-- 1 root root  3567 Oct 11 17:21 moves.py\n",
            "-rw-r--r-- 1 root root  1900 Oct 11 17:21 parser.py\n",
            "-rw-r--r-- 1 root root   175 Oct 11 17:21 pieces.py\n"
          ]
        }
      ]
    },
    {
      "cell_type": "code",
      "source": [
        "!python3 ai.py --help\n"
      ],
      "metadata": {
        "id": "9tAp_S-naoAm"
      },
      "execution_count": null,
      "outputs": []
    },
    {
      "cell_type": "code",
      "source": [
        "!python3 ai.py --selftest"
      ],
      "metadata": {
        "id": "Nczikse83cKa"
      },
      "execution_count": null,
      "outputs": []
    },
    {
      "cell_type": "code",
      "source": [
        "pip install python-chess"
      ],
      "metadata": {
        "id": "TSSicU7U44-5",
        "outputId": "3b59ecaf-ea80-41d9-8fcd-f609a29113be",
        "colab": {
          "base_uri": "https://localhost:8080/"
        }
      },
      "execution_count": null,
      "outputs": [
        {
          "output_type": "stream",
          "name": "stdout",
          "text": [
            "Collecting python-chess\n",
            "  Downloading python_chess-1.999-py3-none-any.whl.metadata (776 bytes)\n",
            "Collecting chess<2,>=1 (from python-chess)\n",
            "  Downloading chess-1.11.2.tar.gz (6.1 MB)\n",
            "\u001b[2K     \u001b[90m━━━━━━━━━━━━━━━━━━━━━━━━━━━━━━━━━━━━━━━━\u001b[0m \u001b[32m6.1/6.1 MB\u001b[0m \u001b[31m43.7 MB/s\u001b[0m eta \u001b[36m0:00:00\u001b[0m\n",
            "\u001b[?25h  Preparing metadata (setup.py) ... \u001b[?25l\u001b[?25hdone\n",
            "Downloading python_chess-1.999-py3-none-any.whl (1.4 kB)\n",
            "Building wheels for collected packages: chess\n",
            "  Building wheel for chess (setup.py) ... \u001b[?25l\u001b[?25hdone\n",
            "  Created wheel for chess: filename=chess-1.11.2-py3-none-any.whl size=147775 sha256=30893534d0cb065b524054ae379c8ea455dcea1d30148846a42ea7b720dd02c5\n",
            "  Stored in directory: /root/.cache/pip/wheels/83/1f/4e/8f4300f7dd554eb8de70ddfed96e94d3d030ace10c5b53d447\n",
            "Successfully built chess\n",
            "Installing collected packages: chess, python-chess\n",
            "Successfully installed chess-1.11.2 python-chess-1.999\n"
          ]
        }
      ]
    },
    {
      "cell_type": "code",
      "source": [
        "!git clone https://github.com/lichess-org/chess-openings.git data/chess-openings"
      ],
      "metadata": {
        "id": "Iol9YYp49_Hy",
        "outputId": "7210ea3a-8b52-4196-8608-99554081658d",
        "colab": {
          "base_uri": "https://localhost:8080/"
        }
      },
      "execution_count": null,
      "outputs": [
        {
          "output_type": "stream",
          "name": "stdout",
          "text": [
            "Cloning into 'data/chess-openings'...\n",
            "remote: Enumerating objects: 2089, done.\u001b[K\n",
            "remote: Counting objects: 100% (388/388), done.\u001b[K\n",
            "remote: Compressing objects: 100% (106/106), done.\u001b[K\n",
            "remote: Total 2089 (delta 324), reused 284 (delta 282), pack-reused 1701 (from 2)\u001b[K\n",
            "Receiving objects: 100% (2089/2089), 1.77 MiB | 9.85 MiB/s, done.\n",
            "Resolving deltas: 100% (1281/1281), done.\n"
          ]
        }
      ]
    },
    {
      "cell_type": "code",
      "source": [
        "!python3 -m py_compile ai.py && echo \"ai.py OK\" || echo \"ai.py FAILED\"\n",
        "!python3 -m py_compile play.py && echo \"play.py OK\" || echo \"play.py FAILED\""
      ],
      "metadata": {
        "id": "VVxgU1MPHJrc",
        "outputId": "2fb1bda5-e495-4ce2-9a6b-eeeadbc1289d",
        "colab": {
          "base_uri": "https://localhost:8080/"
        }
      },
      "execution_count": null,
      "outputs": [
        {
          "output_type": "stream",
          "name": "stdout",
          "text": [
            "ai.py OK\n",
            "[Errno 2] No such file or directory: 'play.py'play.py FAILED\n"
          ]
        }
      ]
    },
    {
      "cell_type": "code",
      "source": [
        "!python3 play.py --ai-side black --depth 2"
      ],
      "metadata": {
        "id": "a868hNtkHSvd",
        "outputId": "fb8d27b9-0126-4906-a89b-5c1c0552eb07",
        "colab": {
          "base_uri": "https://localhost:8080/"
        }
      },
      "execution_count": null,
      "outputs": [
        {
          "output_type": "stream",
          "name": "stdout",
          "text": [
            "python3: can't open file '/content/StockFischer/play.py': [Errno 2] No such file or directory\n"
          ]
        }
      ]
    },
    {
      "cell_type": "code",
      "source": [
        "import argparse\n",
        "import chess\n",
        "import chess.pgn\n",
        "import sys\n",
        "from copy import deepcopy\n",
        "from pathlib import Path\n",
        "\n",
        "# import our parser (make sure parser.py is in the same folder or on PYTHONPATH)\n",
        "try:\n",
        "    from parser import parse_move_input\n",
        "except Exception:\n",
        "    parse_move_input = None\n",
        "\n",
        "# adjust import name depending on your file: ai_combined or ai\n",
        "# from ai_combined import minimax_sse, evaluate_board\n",
        "from ai import minimax_sse, evaluate_board  # if you replaced ai.py\n",
        "\n",
        "# Minimal Piece wrapper expected by the engine\n",
        "class Piece:\n",
        "    def _init_(self, name, colour):\n",
        "        self.name = name  # 'P','N','B','R','Q','K'\n",
        "        self.colour = colour  # 'w' or 'b'\n",
        "    def _repr_(self):\n",
        "        return f\"{self.colour}{self.name}\"\n",
        "\n",
        "# Adapter: convert python-chess Board -> engine-style Game\n",
        "class Game:\n",
        "    def _init_(self, board=None):\n",
        "        self.board_obj = board or chess.Board()\n",
        "        self.board = [[None for _ in range(8)] for _ in range(8)]\n",
        "        self._sync_board_matrix()\n",
        "        self.state = None  # None if ongoing, else string like '1-0','0-1','1/2-1/2'\n",
        "    def _sync_board_matrix(self):\n",
        "        # row 0 is rank 8, row 7 is rank 1\n",
        "        for r in range(8):\n",
        "            for c in range(8):\n",
        "                sq = chess.square(c, 7-r)  # file=c, rank=7-r\n",
        "                piece = self.board_obj.piece_at(sq)\n",
        "                if piece is None:\n",
        "                    self.board[r][c] = None\n",
        "                else:\n",
        "                    p = piece.symbol()\n",
        "                    colour = 'w' if p.isupper() else 'b'\n",
        "                    name_map = {'p':'P','n':'N','b':'B','r':'R','q':'Q','k':'K'}\n",
        "                    self.board[r][c] = Piece(name_map[p.lower()], colour)\n",
        "    def light_copy(self):\n",
        "        # create shallow copy object that has its own board_obj and board matrix\n",
        "        new = Game(self.board_obj.copy())\n",
        "        new.state = self.state\n",
        "        return new\n",
        "    def get_moves(self, r, c):\n",
        "        \"\"\"Return list of target coordinates (r2,c2) for piece at (r,c).\"\"\"\n",
        "        sq_from = chess.square(c, 7-r)\n",
        "        moves = []\n",
        "        for mv in self.board_obj.legal_moves:\n",
        "            if mv.from_square == sq_from:\n",
        "                to_sq = mv.to_square\n",
        "                file = chess.square_file(to_sq)\n",
        "                rank = chess.square_rank(to_sq)\n",
        "                r2 = 7 - rank\n",
        "                c2 = file\n",
        "                moves.append((r2, c2))\n",
        "        return moves\n",
        "    def make_move(self, src, dst, promotion=None):\n",
        "        \"\"\"Apply move (src tuple, dst tuple). promotion is one of 'Q','R','B','N' or None.\"\"\"\n",
        "        from_sq = chess.square(src[1], 7 - src[0])\n",
        "        to_sq = chess.square(dst[1], 7 - dst[0])\n",
        "        if promotion:\n",
        "            prom_map = {'Q': chess.QUEEN, 'R': chess.ROOK, 'B': chess.BISHOP, 'N': chess.KNIGHT}\n",
        "            move = chess.Move(from_sq, to_sq, promotion=prom_map.get(promotion, None))\n",
        "        else:\n",
        "            move = chess.Move(from_sq, to_sq)\n",
        "        # allow pushing even if not in legal_moves (we prefer to validate earlier)\n",
        "        try:\n",
        "            if move not in self.board_obj.legal_moves:\n",
        "                # If move is illegal, try SAN parse or raise\n",
        "                # We'll attempt a SAN fallback in caller; here we try to push if legal\n",
        "                pass\n",
        "        except Exception:\n",
        "            pass\n",
        "        # We will push move directly; chess will raise if illegal\n",
        "        self.board_obj.push(move)\n",
        "        self._sync_board_matrix()\n",
        "        if self.board_obj.is_game_over():\n",
        "            self.state = self.board_obj.result()\n",
        "    def san(self, move_tuple):\n",
        "        \"\"\"Return SAN for a move given ((r,c), (r2,c2), promotion).\"\"\"\n",
        "        src, dst, promo = move_tuple\n",
        "        from_sq = chess.square(src[1], 7 - src[0])\n",
        "        to_sq = chess.square(dst[1], 7 - dst[0])\n",
        "        mv = chess.Move(from_sq, to_sq)\n",
        "        if promo:\n",
        "            prom_map = {'Q': chess.QUEEN, 'R': chess.ROOK, 'B': chess.BISHOP, 'N': chess.KNIGHT}\n",
        "            mv = chess.Move(from_sq, to_sq, promotion=prom_map.get(promo))\n",
        "        try:\n",
        "            return self.board_obj.san(mv)\n",
        "        except Exception:\n",
        "            return mv.uci()\n",
        "    def uci_from_coords(self, src, dst, promotion=None):\n",
        "        from_sq = chess.square(src[1], 7 - src[0])\n",
        "        to_sq = chess.square(dst[1], 7 - dst[0])\n",
        "        mv = chess.Move(from_sq, to_sq)\n",
        "        if promotion:\n",
        "            mv.promotion = {'Q': chess.QUEEN, 'R': chess.ROOK, 'B': chess.BISHOP, 'N': chess.KNIGHT}[promotion]\n",
        "        return mv.uci()\n",
        "\n",
        "# Play loop\n",
        "def human_vs_ai(ai_side='black', depth=2):\n",
        "    \"\"\"\n",
        "    ai_side: 'white' or 'black' (AI plays that color)\n",
        "    depth: minimax search depth (2-3 fast, 4+ slow)\n",
        "    \"\"\"\n",
        "    game = Game()\n",
        "    print(\"Starting new game. You are playing\", 'White' if ai_side=='black' else 'Black')\n",
        "    print(game.board_obj)\n",
        "    while game.state is None:\n",
        "        turn = 'white' if game.board_obj.turn == chess.WHITE else 'black'\n",
        "        if (turn == 'white' and ai_side=='white') or (turn == 'black' and ai_side=='black'):\n",
        "            # AI's turn\n",
        "            print(f\"AI ({turn}) thinking... depth={depth}\")\n",
        "            # call minimax_sse: returns best_move tuple ((r,c), (r2,c2)) or eval if depth=0\n",
        "            try:\n",
        "                mv = minimax_sse(game, depth, alpha=float('-inf'), beta=float('inf'), maximizing=(turn=='white'), original_depth=None, move_cache=None)\n",
        "            except Exception as e:\n",
        "                print(\"AI error calling minimax_sse:\", e)\n",
        "                return\n",
        "            if not mv:\n",
        "                print(\"AI resigns / no move found\")\n",
        "                break\n",
        "            # mv may be ((r,c), (r2,c2), promotion?) or ((r,c), (r2,c2))\n",
        "            if isinstance(mv, tuple) and len(mv) == 3:\n",
        "                src, dst, promo = mv\n",
        "            elif isinstance(mv, tuple) and len(mv) == 2:\n",
        "                src, dst = mv\n",
        "                promo = None\n",
        "            else:\n",
        "                # some versions return ((r,c),dst,prom) or (move) — try to handle\n",
        "                try:\n",
        "                    src, dst = mv[0], mv[1]\n",
        "                    promo = mv[2] if len(mv)>2 else None\n",
        "                except Exception:\n",
        "                    print(\"Unexpected move format from minimax_sse:\", mv)\n",
        "                    return\n",
        "            uci = game.uci_from_coords(src, dst, promotion=promo)\n",
        "            san = game.san((src,dst,promo))\n",
        "            print(f\"AI plays {san} ({uci})\")\n",
        "            # push AI move onto game\n",
        "            try:\n",
        "                game.make_move(src, dst, promotion=promo)\n",
        "            except Exception as e:\n",
        "                print(\"Failed to apply AI move:\", e)\n",
        "                return\n",
        "            print(game.board_obj)\n",
        "        else:\n",
        "            # Human's turn\n",
        "            print(\"Your move (UCI e2e4 or SAN like Nf3). Type 'quit' to exit:\")\n",
        "            user = input().strip()\n",
        "            if user.lower() in ('quit','exit','resign'):\n",
        "                print(\"You resigned / exited.\")\n",
        "                return\n",
        "\n",
        "            # First try parse.py's parser if available\n",
        "            parsed = None\n",
        "            if parse_move_input:\n",
        "                try:\n",
        "                    parsed = parse_move_input(user, game)\n",
        "                except Exception as e:\n",
        "                    # parser failed unexpectedly; we'll fallback to chess parsing below\n",
        "                    print(\"parse.py raised error, falling back to builtin parser:\", e)\n",
        "                    parsed = None\n",
        "\n",
        "            if parsed:\n",
        "                # parsed is expected to be (src, dst, promotion) or None\n",
        "                try:\n",
        "                    src, dst, promo = parsed\n",
        "                    # ensure move is legal: convert to chess.Move and check\n",
        "                    from_sq = chess.square(src[1], 7 - src[0])\n",
        "                    to_sq = chess.square(dst[1], 7 - dst[0])\n",
        "                    mv_try = chess.Move(from_sq, to_sq, promotion=None)\n",
        "                    if promo:\n",
        "                        prom_map = {'Q': chess.QUEEN, 'R': chess.ROOK, 'B': chess.BISHOP, 'N': chess.KNIGHT}\n",
        "                        mv_try = chess.Move(from_sq, to_sq, promotion=prom_map.get(promo))\n",
        "                    if mv_try not in game.board_obj.legal_moves:\n",
        "                        # If parser produced an illegal move, try SAN as fallback\n",
        "                        try:\n",
        "                            mv_try = game.board_obj.parse_san(user)\n",
        "                            from_sq = mv_try.from_square; to_sq = mv_try.to_square\n",
        "                            src = (7 - chess.square_rank(from_sq), chess.square_file(from_sq))\n",
        "                            dst = (7 - chess.square_rank(to_sq), chess.square_file(to_sq))\n",
        "                            promo = None\n",
        "                        except Exception:\n",
        "                            print(\"Parsed move is illegal in current position.\")\n",
        "                            continue\n",
        "                    # apply move\n",
        "                    try:\n",
        "                        game.make_move(src, dst, promotion=promo)\n",
        "                        print(game.board_obj)\n",
        "                    except Exception as e:\n",
        "                        print(\"Failed to apply parsed move:\", e)\n",
        "                        continue\n",
        "                except Exception as e:\n",
        "                    print(\"Parsed move had unexpected format:\", e)\n",
        "                    continue\n",
        "            else:\n",
        "                # Fallback: try UCI, then SAN\n",
        "                try:\n",
        "                    # try UCI exact\n",
        "                    move_obj = None\n",
        "                    try:\n",
        "                        move_obj = chess.Move.from_uci(user)\n",
        "                    except Exception:\n",
        "                        move_obj = None\n",
        "                    if move_obj and move_obj in game.board_obj.legal_moves:\n",
        "                        from_sq = move_obj.from_square; to_sq = move_obj.to_square\n",
        "                        src = (7 - chess.square_rank(from_sq), chess.square_file(from_sq))\n",
        "                        dst = (7 - chess.square_rank(to_sq), chess.square_file(to_sq))\n",
        "                        promo = None\n",
        "                        if move_obj.promotion:\n",
        "                            promo_map = {chess.QUEEN:'Q', chess.ROOK:'R', chess.BISHOP:'B', chess.KNIGHT:'N'}\n",
        "                            promo = promo_map.get(move_obj.promotion)\n",
        "                        game.make_move(src, dst, promotion=promo)\n",
        "                        print(game.board_obj)\n",
        "                        continue\n",
        "                    # try SAN\n",
        "                    try:\n",
        "                        move_obj = game.board_obj.parse_san(user)\n",
        "                        from_sq = move_obj.from_square; to_sq = move_obj.to_square\n",
        "                        src = (7 - chess.square_rank(from_sq), chess.square_file(from_sq))\n",
        "                        dst = (7 - chess.square_rank(to_sq), chess.square_file(to_sq))\n",
        "                        promo = None\n",
        "                        if move_obj.promotion:\n",
        "                            promo_map = {chess.QUEEN:'Q', chess.ROOK:'R', chess.BISHOP:'B', chess.KNIGHT:'N'}\n",
        "                            promo = promo_map.get(move_obj.promotion)\n",
        "                        game.make_move(src, dst, promotion=promo)\n",
        "                        print(game.board_obj)\n",
        "                        continue\n",
        "                    except Exception as e:\n",
        "                        print(\"Invalid move (neither valid UCI nor SAN):\", e)\n",
        "                        continue\n",
        "                except Exception as e:\n",
        "                    print(\"Invalid move:\", e)\n",
        "                    continue\n",
        "\n",
        "    print(\"Game over:\", game.state)\n",
        "    print(\"Final position:\")\n",
        "    print(game.board_obj)\n",
        "    # Offer to save PGN\n",
        "    print(\"Save PGN to file? (y/n)\")\n",
        "    if input().strip().lower().startswith('y'):\n",
        "        game_pgn = chess.pgn.Game.from_board(game.board_obj)\n",
        "        fname = \"game_vs_ai.pgn\"\n",
        "        with open(fname,\"w\") as f:\n",
        "            f.write(str(game_pgn))\n",
        "        print(\"Saved to\", fname)\n",
        "\n",
        "if __name__ == \"_main_\":\n",
        "    parser = argparse.ArgumentParser()\n",
        "    parser.add_argument(\"--ai-side\", choices=[\"white\",\"black\"], default=\"black\", help=\"Which side AI plays\")\n",
        "    parser.add_argument(\"--depth\", type=int, default=2, help=\"Search depth for minimax_sse\")\n",
        "    args = parser.parse_args()  # use actual CLI args\n",
        "    human_vs_ai(ai_side=args.ai_side, depth=args.depth)"
      ],
      "metadata": {
        "id": "BO2kyAF1P48K"
      },
      "execution_count": null,
      "outputs": []
    }
  ]
}